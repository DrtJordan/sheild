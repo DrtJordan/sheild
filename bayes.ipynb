{
 "cells": [
  {
   "cell_type": "markdown",
   "metadata": {},
   "source": [
    "载入NLTK包和movie_reviews数据，movie_reviews数据是一个情感分析的数据，每篇文章被标记为positive和negative。在风控领域，『积极的』和『消极的』可以替换为违规案例和正常案例。"
   ]
  },
  {
   "cell_type": "code",
   "execution_count": 4,
   "metadata": {
    "collapsed": false,
    "scrolled": false,
    "slideshow": {
     "slide_type": "-"
    }
   },
   "outputs": [
    {
     "name": "stdout",
     "output_type": "stream",
     "text": [
      "train on 1500 instances, test on 500 instances\n",
      "accuracy: 0.728\n",
      "Most Informative Features\n",
      "             magnificent = True              pos : neg    =     15.0 : 1.0\n",
      "             outstanding = True              pos : neg    =     13.6 : 1.0\n",
      "               insulting = True              neg : pos    =     13.0 : 1.0\n",
      "              vulnerable = True              pos : neg    =     12.3 : 1.0\n",
      "               ludicrous = True              neg : pos    =     11.8 : 1.0\n",
      "                  avoids = True              pos : neg    =     11.7 : 1.0\n",
      "             uninvolving = True              neg : pos    =     11.7 : 1.0\n",
      "              astounding = True              pos : neg    =     10.3 : 1.0\n",
      "             fascination = True              pos : neg    =     10.3 : 1.0\n",
      "                 idiotic = True              neg : pos    =      9.8 : 1.0\n"
     ]
    }
   ],
   "source": [
    "import nltk.classify.util  \n",
    "from nltk.classify import NaiveBayesClassifier  \n",
    "from nltk.corpus import movie_reviews\n",
    "\n",
    "def word_exists(words): \n",
    "    '''\n",
    "    词袋模型，每一个字是特征名称带有一个True值\n",
    "    '''\n",
    "    return dict([(word, True) for word in words])  \n",
    "   \n",
    "negids = movie_reviews.fileids('neg')  \n",
    "posids = movie_reviews.fileids('pos')  \n",
    "   \n",
    "negfeats = [(word_exists(movie_reviews.words(fileids=[f])), 'neg') for f in negids]  \n",
    "posfeats = [(word_exists(movie_reviews.words(fileids=[f])), 'pos') for f in posids]  \n",
    "   \n",
    "negcutoff = len(negfeats)*3/4  \n",
    "poscutoff = len(posfeats)*3/4  \n",
    "\n",
    "# 分割训练集和测试集\n",
    "trainfeats = negfeats[:negcutoff] + posfeats[:poscutoff]  \n",
    "testfeats = negfeats[negcutoff:] + posfeats[poscutoff:]  \n",
    "print 'train on %d instances, test on %d instances' % (len(trainfeats), len(testfeats))  \n",
    "   \n",
    "classifier = NaiveBayesClassifier.train(trainfeats)  \n",
    "print 'accuracy:', nltk.classify.util.accuracy(classifier, testfeats)  \n",
    "classifier.show_most_informative_features()  "
   ]
  },
  {
   "cell_type": "markdown",
   "metadata": {},
   "source": [
    "从结果中我们看到，准确率大概为72.8%，这个准确率不算高，当然贝叶斯算法也足够简单，为了提高准确率，一些其他的工作也需要做，比如去除停用词、改变训练集和测试集的比例并多次训练和测试。"
   ]
  }
 ],
 "metadata": {
  "kernelspec": {
   "display_name": "Python 2",
   "language": "python",
   "name": "python2"
  },
  "language_info": {
   "codemirror_mode": {
    "name": "ipython",
    "version": 2
   },
   "file_extension": ".py",
   "mimetype": "text/x-python",
   "name": "python",
   "nbconvert_exporter": "python",
   "pygments_lexer": "ipython2",
   "version": "2.7.10"
  }
 },
 "nbformat": 4,
 "nbformat_minor": 0
}
